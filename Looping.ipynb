{
 "cells": [
  {
   "cell_type": "code",
   "execution_count": 36,
   "id": "0aa03224",
   "metadata": {},
   "outputs": [],
   "source": [
    "from langgraph.graph import StateGraph, START, END\n",
    "import random\n",
    "from typing import Dict, List, TypedDict"
   ]
  },
  {
   "cell_type": "code",
   "execution_count": 37,
   "id": "efc1b4df",
   "metadata": {},
   "outputs": [],
   "source": [
    "class AgentState(TypedDict):\n",
    "    name: str\n",
    "    result: str\n",
    "    number: List[int]\n",
    "    counter: int"
   ]
  },
  {
   "cell_type": "code",
   "execution_count": null,
   "id": "2b988f7a",
   "metadata": {},
   "outputs": [],
   "source": [
    "def greeting_node(state: AgentState) -> AgentState:\n",
    "    \"\"\" Greeting Node --> say Hi \"\"\"\n",
    "\n",
    "    state[\"result\"] = f\"Hi there, {state['name']}\"\n",
    "    state[\"counter\"] = 0\n",
    "    state[\"number\"] = []\n",
    "\n",
    "    return state\n",
    "\n",
    "def random_node(state: AgentState) -> AgentState:\n",
    "    \"\"\" Generate a random number betwewen 0 and 10 \"\"\"\n",
    "\n",
    "    state[\"number\"].append(random.randint(0, 10))\n",
    "    state[\"counter\"] += 1\n",
    "\n",
    "    return state\n",
    "\n",
    "def finalization_condition(state: AgentState) -> AgentState:\n",
    "    \"\"\" decide when the loop  \"\"\"\n",
    "\n",
    "    if state[\"counter\"]<5:\n",
    "        print(\"Loop continues\", state[\"counter\"])\n",
    "        return \"loop\"  # loop를 계속함\n",
    "    else:\n",
    "        return \"finalize\"\n",
    "\n",
    "def finalize_node(state: AgentState) -> AgentState:\n",
    "    \"\"\" 결과 출력 \"\"\"\n",
    "\n",
    "    state[\"result\"] += f\" 현재 카운터 : {state['counter']}, 숫자 리스트 : {state['number']}, 총합 : {sum(state['number'])}\"\n",
    "    return state\n",
    "        "
   ]
  },
  {
   "cell_type": "code",
   "execution_count": 39,
   "id": "f53985b9",
   "metadata": {},
   "outputs": [
    {
     "data": {
      "text/plain": [
       "<langgraph.graph.state.StateGraph at 0x7a9bcc09aec0>"
      ]
     },
     "execution_count": 39,
     "metadata": {},
     "output_type": "execute_result"
    }
   ],
   "source": [
    "graph = StateGraph(AgentState)\n",
    "\n",
    "graph.add_edge(START, \"greeting\")\n",
    "\n",
    "graph.add_node(\"greeting\", greeting_node)\n",
    "graph.add_node(\"random\", random_node)\n",
    "graph.add_node(\"finalize\", finalize_node)\n",
    "graph.add_edge(\"greeting\", \"random\")\n",
    "\n",
    "graph.add_conditional_edges(\n",
    "    \"random\",\n",
    "    finalization_condition,\n",
    "    {\n",
    "        \"loop\": \"random\",\n",
    "        \"finalize\": \"finalize\"\n",
    "    }\n",
    ")\n",
    "\n",
    "graph.add_edge(\"finalize\", END)"
   ]
  },
  {
   "cell_type": "code",
   "execution_count": 40,
   "id": "87cf86f7",
   "metadata": {},
   "outputs": [],
   "source": [
    "app = graph.compile()"
   ]
  },
  {
   "cell_type": "code",
   "execution_count": 41,
   "id": "9dfc1f4e",
   "metadata": {},
   "outputs": [
    {
     "data": {
      "image/png": "[encoded data removed]",
      "text/plain": [
       "<IPython.core.display.Image object>"
      ]
     },
     "metadata": {},
     "output_type": "display_data"
    }
   ],
   "source": [
    "from IPython.display import Image, display\n",
    "display(Image(app.get_graph().draw_mermaid_png()))"
   ]
  },
  {
   "cell_type": "code",
   "execution_count": 42,
   "id": "f8048c4c",
   "metadata": {},
   "outputs": [
    {
     "name": "stdout",
     "output_type": "stream",
     "text": [
      "Loop continues 1\n",
      "Loop continues 2\n",
      "Loop continues 3\n",
      "Loop continues 4\n"
     ]
    },
    {
     "data": {
      "text/plain": [
       "{'name': '김씨',\n",
       " 'result': 'Hi there, 김씨',\n",
       " 'number': [6, 0, 5, 3, 2],\n",
       " 'counter': 5}"
      ]
     },
     "execution_count": 42,
     "metadata": {},
     "output_type": "execute_result"
    }
   ],
   "source": [
    "loopState = AgentState(name=\"김씨\")\n",
    "app.invoke(loopState)"
   ]
  }
 ],
 "metadata": {
  "kernelspec": {
   "display_name": "venv",
   "language": "python",
   "name": "python3"
  },
  "language_info": {
   "codemirror_mode": {
    "name": "ipython",
    "version": 3
   },
   "file_extension": ".py",
   "mimetype": "text/x-python",
   "name": "python",
   "nbconvert_exporter": "python",
   "pygments_lexer": "ipython3",
   "version": "3.10.12"
  }
 },
 "nbformat": 4,
 "nbformat_minor": 5
}
